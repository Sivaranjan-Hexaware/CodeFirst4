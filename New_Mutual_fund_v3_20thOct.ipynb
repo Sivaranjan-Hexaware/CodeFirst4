{
 "cells": [
  {
   "cell_type": "code",
   "execution_count": 1,
   "id": "506fe450",
   "metadata": {},
   "outputs": [],
   "source": [
    "import pandas as pd\n",
    "import numpy as np\n",
    "import ipywidgets as widgets\n",
    "from IPython.display import display, clear_output\n",
    "\n",
    "#geting rf data from excel file\n",
    "rf=pd.read_excel(\"D:/AIM 29th March2021/Python/CodeFirst3/Rf data1.xlsx\")\n",
    "#rf=pd.read_excel(\"Rf data1.xlsx\")\n",
    "rf=rf['Rf']"
   ]
  },
  {
   "cell_type": "code",
   "execution_count": 2,
   "id": "54712a7c",
   "metadata": {},
   "outputs": [],
   "source": [
    "# Fund Analytics cover image\n",
    "file = open(\"D:/AIM 29th March2021/Python/CodeFirst3/Amaze_DP.JPG\", \"rb\") #local data location\n",
    "#file = open(\"Amaze_DP.JPG\", \"rb\") # Github image location\n",
    "image = file.read()\n",
    "\n",
    "image_headline=widgets.Image(\n",
    "               value=image,\n",
    "               format='JPG',\n",
    "               width='900' \n",
    "            )\n",
    "label_headline=widgets.Label(\n",
    "                  value='Fund Analytics Platform',\n",
    "                  style={'description_width': 'initial'}\n",
    "            )\n",
    "vbox_headline=widgets.VBox([image_headline,label_headline])   "
   ]
  },
  {
   "cell_type": "code",
   "execution_count": 3,
   "id": "ddde1302",
   "metadata": {},
   "outputs": [],
   "source": [
    "#Global variables\n",
    "Min=0\n",
    "Max=0\n",
    "e_min=0\n",
    "e_max=0"
   ]
  },
  {
   "cell_type": "code",
   "execution_count": 4,
   "id": "b7784795",
   "metadata": {},
   "outputs": [],
   "source": [
    "Def_Print=widgets.Label(\n",
    "                  value='Hi, before your proceed for selecting input values for expected return have a look'+'\\n'+ \n",
    "'at the historical rf values,'' minimum is {:.2f} & maximum {:.2f} '.format(np.mean(rf)-np.std(rf),np.mean(rf)+np.std(rf)),\n",
    "                  style={'description_width': 'initial'}\n",
    "            )\n",
    "\n",
    "    #print('Hi before your proceed for selecting input values for expected return have a look  at the historical values ')\n",
    "    #print(' minimum is {:.2f} & maximum {:.2f} '.format(np.mean(rf)-np.std(rf),np.mean(rf)+np.std(rf)))"
   ]
  },
  {
   "cell_type": "code",
   "execution_count": 5,
   "id": "8eb603ed",
   "metadata": {},
   "outputs": [],
   "source": [
    "Def_Print_Exteme_Low_High=widgets.Label(\n",
    "                  value='Select the Extreme Lowest and Highest value : Note : Extreme lowest value is {:.2f} & highest {:.2f}  '.format(np.min(rf),np.max(rf)),\n",
    "                  style={'description_width': 'initial'}\n",
    "            )"
   ]
  },
  {
   "cell_type": "code",
   "execution_count": 6,
   "id": "80075f69",
   "metadata": {},
   "outputs": [],
   "source": [
    "Def_Print_Probability=widgets.Label(\n",
    "                  value='Select the Probability data type',\n",
    "                  style={'description_width': 'initial'}\n",
    "            )"
   ]
  },
  {
   "cell_type": "code",
   "execution_count": 7,
   "id": "34405102",
   "metadata": {},
   "outputs": [],
   "source": [
    "# Input values for expected return (select  min and max values based on  historical data  or enter manually )\n",
    "Rf_Min_max1_radio=widgets.RadioButtons(options=['Rf-  Historical data - min and max rf values','Rf- Enter - min and max rf values'],value='Rf-  Historical data - min and max rf values')\n",
    "#Rf_Min_max1.observe(changed,'value')"
   ]
  },
  {
   "cell_type": "code",
   "execution_count": 8,
   "id": "baa07899",
   "metadata": {},
   "outputs": [],
   "source": [
    "Extreme_High_Low_radio =widgets.RadioButtons(options=['Rf-  Hist data - Extreme Low and High rf values','Rf- Enter - Extreme Low and High rf values'],value='Rf-  Hist data - Extreme Low and High rf values')\n",
    "#Extreme_Min_max"
   ]
  },
  {
   "cell_type": "code",
   "execution_count": 9,
   "id": "1cc4c99e",
   "metadata": {},
   "outputs": [],
   "source": [
    "# probability on historical data type\n",
    "Prob_Hist_data_type_radio =widgets.RadioButtons(options=['Rf- Probability- Historical data type','Rf- Enter data type'],value='Rf- Probability- Historical data type')"
   ]
  },
  {
   "cell_type": "code",
   "execution_count": 10,
   "id": "cb4692b5",
   "metadata": {},
   "outputs": [],
   "source": [
    "# What is minimun rf value\n",
    "Min_rf_val=widgets.Text(placeholder = 'What is min rf value')\n",
    "Min_rf_val.layout.display=\"none\""
   ]
  },
  {
   "cell_type": "code",
   "execution_count": 11,
   "id": "56254428",
   "metadata": {},
   "outputs": [],
   "source": [
    "# What is maximum rf value\n",
    "Max_rf_val=widgets.Text(placeholder = 'What is max rf value')\n",
    "Max_rf_val.layout.display=\"none\""
   ]
  },
  {
   "cell_type": "code",
   "execution_count": 12,
   "id": "77e73f08",
   "metadata": {},
   "outputs": [],
   "source": [
    "# What is Probability- Historical data type\n",
    "Min_rf_val=widgets.Text(placeholder = 'What is min rf value')\n",
    "Min_rf_val.layout.display=\"none\""
   ]
  },
  {
   "cell_type": "code",
   "execution_count": 13,
   "id": "580f8e1a",
   "metadata": {},
   "outputs": [],
   "source": [
    "# What is\n",
    "Max_rf_val=widgets.Text(placeholder = 'What is max rf value')\n",
    "Max_rf_val.layout.display=\"none\""
   ]
  },
  {
   "cell_type": "code",
   "execution_count": 14,
   "id": "18981878",
   "metadata": {},
   "outputs": [],
   "source": [
    "# Prob text entry min\n",
    "Prob_text_entry_min=widgets.Text(placeholder = '')\n",
    "Prob_text_entry_min.layout.display=\"none\""
   ]
  },
  {
   "cell_type": "code",
   "execution_count": 15,
   "id": "cc8f7c12",
   "metadata": {},
   "outputs": [],
   "source": [
    "# Prob text entry max\n",
    "Prob_text_entry_max=widgets.Text(placeholder = '')\n",
    "Prob_text_entry_max.layout.display=\"none\""
   ]
  },
  {
   "cell_type": "code",
   "execution_count": 16,
   "id": "144f3269",
   "metadata": {},
   "outputs": [],
   "source": [
    "# What is Ext Low rf value\n",
    "Low_rf_val_manual=widgets.Text(placeholder = 'What is Exteme Low rf value')\n",
    "Low_rf_val_manual.layout.display=\"none\""
   ]
  },
  {
   "cell_type": "code",
   "execution_count": 17,
   "id": "83b336eb",
   "metadata": {},
   "outputs": [],
   "source": [
    "# What is Ext High rf value\n",
    "High_rf_val_manual=widgets.Text(placeholder = 'What is Exteme High rf value')\n",
    "High_rf_val_manual.layout.display=\"none\""
   ]
  },
  {
   "cell_type": "code",
   "execution_count": 18,
   "id": "992ddf80",
   "metadata": {},
   "outputs": [],
   "source": [
    "# What is Ext Low value\n",
    "Low_rf_val_auto=widgets.BoundedFloatText(placeholder = '',min=-180,max=180)\n",
    "Low_rf_val_auto.layout.display=\"none\""
   ]
  },
  {
   "cell_type": "code",
   "execution_count": 19,
   "id": "ae97a589",
   "metadata": {},
   "outputs": [],
   "source": [
    "# What is Ext High value\n",
    "High_rf_val_auto=widgets.BoundedFloatText(placeholder = '',min=-180,max=180)\n",
    "High_rf_val_auto.layout.display=\"none\""
   ]
  },
  {
   "cell_type": "code",
   "execution_count": 20,
   "id": "4b704255",
   "metadata": {},
   "outputs": [],
   "source": [
    "# What is\n",
    "Prog_low_val_auto=widgets.BoundedFloatText(placeholder = '',min=-180,max=180)\n",
    "Prog_low_val_auto.layout.display=\"none\""
   ]
  },
  {
   "cell_type": "code",
   "execution_count": 21,
   "id": "a9d986e7",
   "metadata": {},
   "outputs": [],
   "source": [
    "# What i\n",
    "Prog_high_val_auto=widgets.BoundedFloatText(placeholder = '',min=-180,max=180)\n",
    "Prog_high_val_auto.layout.display=\"none\""
   ]
  },
  {
   "cell_type": "code",
   "execution_count": 22,
   "id": "a47bc18c",
   "metadata": {},
   "outputs": [],
   "source": [
    "Cal_rf_manual_entry_wid=widgets.Button(description=\"Calculate\")\n",
    "#Cal_rf_manual_entry_wid.on_click(Cal_rf_manual_entry)\n",
    "\n",
    "#def Cal_rf_manual_entry():       "
   ]
  },
  {
   "cell_type": "code",
   "execution_count": 23,
   "id": "72e7869f",
   "metadata": {},
   "outputs": [],
   "source": [
    "Hist_min_rf=widgets.BoundedFloatText(placeholder = '',min=-180, max=180)\n",
    "Hist_min_rf.layout.display=\"none\""
   ]
  },
  {
   "cell_type": "code",
   "execution_count": 24,
   "id": "f76cbdfe",
   "metadata": {},
   "outputs": [],
   "source": [
    "Hist_max_rf=widgets.BoundedFloatText(placeholder = '')\n",
    "Hist_max_rf.layout.display=\"none\"\n",
    "Hist_min_rf.layout.display=\"block\"\n",
    "Hist_max_rf.layout.display=\"block\""
   ]
  },
  {
   "cell_type": "code",
   "execution_count": 25,
   "id": "c588632b",
   "metadata": {},
   "outputs": [],
   "source": [
    "#Prob output for user viewing\n",
    "Prog_output_user_view=widgets.BoundedFloatText(placeholder = '',min=-180, max=180)\n",
    "Prog_output_user_view.layout.display=\"block\""
   ]
  },
  {
   "cell_type": "code",
   "execution_count": 26,
   "id": "af3eb126",
   "metadata": {},
   "outputs": [],
   "source": [
    "# No of segment\n",
    "Segment_label=widgets.Label(\n",
    "                  value='How many segments do you want to create, Min = 1, Max = 10 ?',\n",
    "                  style={'description_width': 'initial'}\n",
    ")\n",
    "#Segment_label"
   ]
  },
  {
   "cell_type": "code",
   "execution_count": 27,
   "id": "310692f8",
   "metadata": {},
   "outputs": [],
   "source": [
    "# No of segment\n",
    "No_of_data_points_label=widgets.Label(\n",
    "                  value='How many data points do you want to create, Min = 100, Max = 1000 ?',\n",
    "                  style={'description_width': 'initial'}\n",
    ")"
   ]
  },
  {
   "cell_type": "code",
   "execution_count": 28,
   "id": "269df8a7",
   "metadata": {},
   "outputs": [],
   "source": [
    "# Segment_value_box\n",
    "Segment_value_box=widgets.Text(placeholder = '')\n",
    "\n",
    "Segment_value_box_slider=widgets.IntSlider(\n",
    "    value=4,\n",
    "    min=1,\n",
    "    max=10,\n",
    "    step=1,\n",
    "    description='No. of Segments:',\n",
    ")\n",
    "#Segment_value_box_slider\n",
    "#Segment_value_box"
   ]
  },
  {
   "cell_type": "code",
   "execution_count": 29,
   "id": "b0a69f41",
   "metadata": {},
   "outputs": [],
   "source": [
    "# No of Data Points\n",
    "No_of_data_points=widgets.Label(\n",
    "                  value='How many data points do you want to create, Min = 100, Max = 1000 ?',\n",
    "                  style={'description_width': 'initial'}\n",
    ")\n",
    "\n",
    "No_of_data_points_slider=widgets.IntSlider(\n",
    "    value=300,\n",
    "    min=100,\n",
    "    max=1000,\n",
    "    step=100,\n",
    "    description='No. of Data Points:',\n",
    ")"
   ]
  },
  {
   "cell_type": "code",
   "execution_count": 30,
   "id": "435fea3c",
   "metadata": {},
   "outputs": [],
   "source": [
    "# Data points value\n",
    "Data_points_value=widgets.Text(placeholder = '')\n",
    "\n",
    "# Data_points_value_slider=widgets.IntSlider(\n",
    "#     value=3,\n",
    "#     min=100,\n",
    "#     max=10000,\n",
    "#     step=100,\n",
    "#     description='No of data points:',\n",
    "# )"
   ]
  },
  {
   "cell_type": "code",
   "execution_count": 31,
   "id": "dab8987d",
   "metadata": {},
   "outputs": [],
   "source": [
    "def Set_Min_Max_rf(change): \n",
    "    #print(Rf_Min_max1.value)\n",
    "    #name.value=Rf_Min_max1.value\n",
    "    if Rf_Min_max1_radio.value==\"Rf-  Historical data - min and max rf values\" or \"\": \n",
    "        Min_rf_val.layout.display=\"none\"\n",
    "        Max_rf_val.layout.display=\"none\"            \n",
    "        Min=float(np.mean(rf)-np.std(rf))\n",
    "        Max=float(np.mean(rf)+np.std(rf))\n",
    "        Hist_min_rf.layout.display=\"block\"\n",
    "        Hist_max_rf.layout.display=\"block\"\n",
    "        Hist_min_rf.value=Min\n",
    "        Hist_max_rf.value=Max      \n",
    "        #print(Min)\n",
    "        #print(Max)\n",
    "    else:\n",
    "        Min_rf_val.layout.display=\"block\" #visible\n",
    "        Max_rf_val.layout.display=\"block\" #visible\n",
    "        Hist_min_rf.layout.display=\"none\"\n",
    "        Hist_max_rf.layout.display=\"none\"\n",
    "        Min_rf_val.value=Min\n",
    "        Max_rf_val.value=Max\n",
    "        print(Min)\n",
    "        print(Max)\n",
    "        #Min=float('What is value of  Minimum ')\n",
    "        #Max=float('What is value of  Maximum ')\n",
    "        #print('Extreme lowest value for  {:.2f} & highest {:.2f}  '.format(np.min(data),np.max(data)))\n",
    "Rf_Min_max1_radio.observe(Set_Min_Max_rf,'value')"
   ]
  },
  {
   "cell_type": "code",
   "execution_count": 32,
   "id": "1153f2ba",
   "metadata": {},
   "outputs": [],
   "source": [
    "def set_Extreme_High_Low(change): \n",
    "    #print(Rf_Min_max1.value)\n",
    "    #Extreme_High_Low.value=Rf_Min_max1.value\n",
    "    if Extreme_High_Low_radio.value==\"Rf-  Hist data - Extreme Low and High rf values\" or \"\": \n",
    "        Low_rf_val_auto.layout.display=\"block\"\n",
    "        High_rf_val_auto.layout.display=\"block\"\n",
    "        Low_rf_val_manual.layout.display=\"none\"\n",
    "        High_rf_val_manual.layout.display=\"none\"\n",
    "        e_min=np.min(rf)\n",
    "        e_max=np.max(rf)\n",
    "        #Hist_min_rf.layout.display=\"block\"\n",
    "        #Hist_max_rf.layout.display=\"block\"\n",
    "        Low_rf_val_auto.value=e_min\n",
    "        High_rf_val_auto.value=e_max      \n",
    "        print(e_min)\n",
    "        print(e_max)\n",
    "    else:\n",
    "        Low_rf_val_manual.layout.display=\"block\"\n",
    "        High_rf_val_manual.layout.display=\"block\"\n",
    "        Low_rf_val_auto.layout.display=\"none\"\n",
    "        High_rf_val_auto.layout.display=\"none\"\n",
    "        Low_rf_val_manual.value=e_min\n",
    "        High_rf_val_manual.value=e_max\n",
    "#         Hist_min_rf.layout.display=\"none\"\n",
    "#         Hist_max_rf.layout.display=\"none\"\n",
    "        #Min=float('What is value of  Minimum ')\n",
    "        #Max=float('What is value of  Maximum ')\n",
    "        #print('Extreme lowest value for  {:.2f} & highest {:.2f}  '.format(np.min(data),np.max(data)))\n",
    "Extreme_High_Low_radio.observe(set_Extreme_High_Low,'value')"
   ]
  },
  {
   "cell_type": "code",
   "execution_count": 33,
   "id": "3fa3bd90",
   "metadata": {},
   "outputs": [],
   "source": [
    "# New output\n",
    "points=[]\n",
    "points1=[]\n",
    "points2=[]\n",
    "def calculate_output():\n",
    "    if Prob_Hist_data_type_radio.value ==\"Rf- Probability- Historical data type\":\n",
    "        df=(int(Max_rf_val.value)-int(Min_rf_val.value))/(int(Segment_value_box_slider.value)-2)\n",
    "        k=0\n",
    "        for i in range(int(Segment_value_box_slider.value)):\n",
    "            if i==0:\n",
    "                min_val=int(Low_rf_val_manual.value)\n",
    "                max_val=int(Min_rf_val.value) \n",
    "                for j in rf:\n",
    "                    if j>=min_val and j<=max_val:\n",
    "                        points1.append(j)\n",
    "                        points.append(points1)\n",
    "            elif i==int(Segment_value_box_slider.value)-1:\n",
    "                min_val=int(Max_rf_val.value)\n",
    "                max_val=int(High_rf_val_manual.value)\n",
    "                for j in rf:\n",
    "                    if j>=min_val and j<=max_val:\n",
    "                         points2.append(j)\n",
    "                    points.append(points2)\n",
    "            else:\n",
    "                points3=[]\n",
    "                min_val=int(Min_rf_val.value)+(df*(i-1))\n",
    "                max_val=int(Min_rf_val.value)+df*i\n",
    "                if i!=k:\n",
    "                    points3.clear()\n",
    "                    for j in rf:\n",
    "                        if j>=min_val and j<=max_val:\n",
    "                            points3.append(j)\n",
    "\n",
    "                    points.append(points3)\n",
    "                    i=k\n",
    "\n",
    "    print(\"The Probability on historical data according to no. of segments which you created is :\")\n",
    "    probabilitylist1=[]\n",
    "    for j in range(int(Segment_value_box_slider.value)):\n",
    "        a=(len(points[j]))\n",
    "        b=(a/len(rf))*100\n",
    "        probabilitylist1.append(b)\n",
    "        print(b)  \n",
    "    \n",
    "    rf_input2=input(\"If you want go with probability on historical data type(y) or For manually entering (n)\")\n",
    "    probabilitylist=[]\n",
    "    totalProbablty=0\n",
    "    #if rf_input2 =='y':\n",
    "    #if rf_input2 ==Prob_Hist_data_type_radio\n",
    "    if Prob_Hist_data_type_radio.value == \"Rf- Probability- Historical data type\" or \"\": \n",
    "        probabilitylist=probabilitylist1\n",
    "    elif Prob_Hist_data_type_radio.value==\"Rf- Enter data type\":\n",
    "        \n",
    "        print('Enter Probability values')\n",
    "        for i in range(int(Segment_value_box_slider.value)):\n",
    "            ele = int(input())\n",
    "            totalProbablty += ele\n",
    "            probability=(int(Segment_value_box_slider.value)*ele)//100\n",
    "            probabilitylist.append(probability)\n",
    "    if totalProbablty > 100 :#condition for probablity not excided more than 100%\n",
    "        print('Wrong entry. Total probability exceeded 100')\n",
    "        sys.exit()\n",
    "    a=int(Segment_value_box_slider.value)\n",
    "    #b=int(Data_points_value.value)\n",
    "    return(int(Min_rf_val.value),int(Max_rf_val.value),int(Low_rf_val_manual.value),int(High_rf_val_manual.value),a,probabilitylist)\n",
    "    #globals()[name] = a\n",
    "#Prob_Hist_data_type_radio.observe(calculate_output,'value')"
   ]
  },
  {
   "cell_type": "code",
   "execution_count": 34,
   "id": "596be747",
   "metadata": {},
   "outputs": [],
   "source": [
    "# Button to send user input\n",
    "Send_button =widgets.Button(\n",
    "            description='Send Input',\n",
    "            tooltip='Send',\n",
    "            style={'description_width':'initial'}\n",
    "        )\n",
    "output=widgets.Output()\n",
    "      \n",
    "def on_button_clicked(calculate_output):\n",
    "    with output:\n",
    "        clear_output()\n",
    "#         print(\"Input sent\")\n",
    "#         calculate_output()\n",
    "        a=calculate_output()\n",
    "        Print(a)\n",
    "        Send_button.on_click(on_button_clicked)\n",
    "#Sendbox_result=widgets.VBox([Send_button,output])\n",
    "#send_button\n",
    "#calculate_output()\n",
    "#Sendbox_result\n"
   ]
  },
  {
   "cell_type": "code",
   "execution_count": 35,
   "id": "c47f78f2",
   "metadata": {},
   "outputs": [],
   "source": [
    "vbox_text=widgets.VBox([Def_Print,Rf_Min_max1_radio,Min_rf_val,Max_rf_val,Hist_min_rf,Hist_max_rf,Def_Print_Exteme_Low_High,Extreme_High_Low_radio,Low_rf_val_auto,High_rf_val_auto,Low_rf_val_manual,High_rf_val_manual,Segment_label,Segment_value_box_slider,No_of_data_points_label,No_of_data_points_slider,Def_Print_Probability,Prob_Hist_data_type_radio,Prog_output_user_view,Send_button])"
   ]
  },
  {
   "cell_type": "code",
   "execution_count": 37,
   "id": "d112dcd4",
   "metadata": {},
   "outputs": [
    {
     "data": {
      "application/vnd.jupyter.widget-view+json": {
       "model_id": "bcca45becfee42a0835f4c9094ebe191",
       "version_major": 2,
       "version_minor": 0
      },
      "text/plain": [
       "VBox(children=(VBox(children=(Image(value=b'\\xff\\xd8\\xff\\xe0\\x00\\x10JFIF\\x00\\x01\\x01\\x01\\x00`\\x00`\\x00\\x00\\xff…"
      ]
     },
     "metadata": {},
     "output_type": "display_data"
    },
    {
     "name": "stdout",
     "output_type": "stream",
     "text": [
      "The Probability on historical data according to no. of segments which you created is :\n",
      "0.0\n",
      "0.0\n",
      "0.0\n",
      "0.0\n",
      "If you want go with probability on historical data type(y) or For manually entering (n)y\n"
     ]
    }
   ],
   "source": [
    "page=widgets.VBox([vbox_headline,vbox_text])\n",
    "display(page)\n",
    "widgets.value = calculate_output()"
   ]
  },
  {
   "cell_type": "code",
   "execution_count": null,
   "id": "9280ffd9",
   "metadata": {},
   "outputs": [],
   "source": [
    "#calculate_output()"
   ]
  }
 ],
 "metadata": {
  "kernelspec": {
   "display_name": "Python 3 (ipykernel)",
   "language": "python",
   "name": "python3"
  },
  "language_info": {
   "codemirror_mode": {
    "name": "ipython",
    "version": 3
   },
   "file_extension": ".py",
   "mimetype": "text/x-python",
   "name": "python",
   "nbconvert_exporter": "python",
   "pygments_lexer": "ipython3",
   "version": "3.9.7"
  }
 },
 "nbformat": 4,
 "nbformat_minor": 5
}
