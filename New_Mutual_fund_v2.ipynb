{
 "cells": [
  {
   "cell_type": "code",
   "execution_count": 41,
   "id": "506fe450",
   "metadata": {},
   "outputs": [],
   "source": [
    "import pandas as pd\n",
    "import numpy as np\n",
    "import ipywidgets as widgets\n",
    "import ipywidgets as widgets\n",
    "from IPython.display import display, clear_output\n",
    "\n",
    "#geting rf data from excel file\n",
    "rf=pd.read_excel(\"D:/AIM 29th March2021/Python/CodeFirst3/Rf data1.xlsx\")\n",
    "#rf=pd.read_excel(\"Rf data1.xlsx\")\n",
    "rf=rf['Rf']"
   ]
  },
  {
   "cell_type": "code",
   "execution_count": 42,
   "id": "56b767bf",
   "metadata": {},
   "outputs": [],
   "source": [
    "#Global variables\n",
    "Min=0.0\n",
    "Max=0.0\n",
    "e_min=0.0\n",
    "e_max=0.0"
   ]
  },
  {
   "cell_type": "code",
   "execution_count": 43,
   "id": "54712a7c",
   "metadata": {},
   "outputs": [],
   "source": [
    "# Mutual fund Image Widget\n",
    "file = open(\"D:/AIM 29th March2021/Python/CodeFirst3/Amaze_DP.JPG\", \"rb\") #local data location\n",
    "#file = open(\"Amaze_DP.JPG\", \"rb\") # Github image location\n",
    "image = file.read()\n",
    "\n",
    "image_headline=widgets.Image(\n",
    "               value=image,\n",
    "               format='JPG',\n",
    "               width='900' \n",
    "            )\n",
    "label_headline=widgets.Label(\n",
    "                  value='Mutual Fund Analytics Platform',\n",
    "                  style={'description_width': 'initial'}\n",
    "            )\n",
    "vbox_headline=widgets.VBox([image_headline,label_headline])   "
   ]
  },
  {
   "cell_type": "code",
   "execution_count": 44,
   "id": "b7784795",
   "metadata": {},
   "outputs": [],
   "source": [
    "Def_Print=widgets.Label(\n",
    "                  value='Hi, before your proceed for selecting input values for expected return have a look'+'\\n'+ \n",
    "'at the historical values,'' minimum is {:.2f} & maximum {:.2f} '.format(np.mean(rf)-np.std(rf),np.mean(rf)+np.std(rf)),\n",
    "                  style={'description_width': 'initial'}\n",
    "            )\n",
    "\n",
    "    #print('Hi before your proceed for selecting input values for expected return have a look  at the historical values ')\n",
    "    #print(' minimum is {:.2f} & maximum {:.2f} '.format(np.mean(rf)-np.std(rf),np.mean(rf)+np.std(rf)))"
   ]
  },
  {
   "cell_type": "code",
   "execution_count": 45,
   "id": "aa53aee9",
   "metadata": {},
   "outputs": [],
   "source": [
    "Def_Print_Exteme_Low_High=widgets.Label(\n",
    "                  value='Select the Extreme Lowest and Highest value : Note : Extreme lowest value is {:.2f} & highest {:.2f}  '.format(np.min(rf),np.max(rf)),\n",
    "                  style={'description_width': 'initial'}\n",
    "            )"
   ]
  },
  {
   "cell_type": "code",
   "execution_count": 46,
   "id": "ec682eae",
   "metadata": {},
   "outputs": [],
   "source": [
    "Def_Print_Probability=widgets.Label(\n",
    "                  value='Select the Probability data type',\n",
    "                  style={'description_width': 'initial'}\n",
    "            )"
   ]
  },
  {
   "cell_type": "code",
   "execution_count": 47,
   "id": "34405102",
   "metadata": {},
   "outputs": [],
   "source": [
    "# Input values for expected return (select  min and max values based on  historical data  or enter manually )\n",
    "Rf_Min_max1_radio=widgets.RadioButtons(options=['Rf-  Historical data - min and max rf values','Rf- Enter - min and max rf values'],value='Rf-  Historical data - min and max rf values')\n",
    "#Rf_Min_max1.observe(changed,'value')"
   ]
  },
  {
   "cell_type": "code",
   "execution_count": 48,
   "id": "bd3a0340",
   "metadata": {},
   "outputs": [],
   "source": [
    "# probability on historical data type\n",
    "Prob_Hist_data_type =widgets.RadioButtons(options=['Rf- Probability- Historical data type','Rf- Enter data type '],value='Rf- Probability- Historical data type')"
   ]
  },
  {
   "cell_type": "code",
   "execution_count": 49,
   "id": "8df1c396",
   "metadata": {},
   "outputs": [],
   "source": [
    "# # Probability value\n",
    "# Prob_value=widgets.Text(placeholder = '')"
   ]
  },
  {
   "cell_type": "code",
   "execution_count": 50,
   "id": "2d8c3567",
   "metadata": {},
   "outputs": [],
   "source": [
    "# Name\n",
    "#name=widgets.Text(placeholder = 'Your selection')\n",
    "#name.value=\"Rf-  Historical data - min and max rf values\""
   ]
  },
  {
   "cell_type": "code",
   "execution_count": 51,
   "id": "addafc13",
   "metadata": {},
   "outputs": [],
   "source": [
    "# Ext_L_and_H\n",
    "#Ext_L_and_H=widgets.Text(placeholder = 'Your selection')\n",
    "#name.value=\"Rf-  Hist data - Extreme Low and High rf values\""
   ]
  },
  {
   "cell_type": "code",
   "execution_count": 52,
   "id": "cb4692b5",
   "metadata": {},
   "outputs": [],
   "source": [
    "# What is minimun rf value\n",
    "Min_rf_val=widgets.Text(placeholder = 'What is min rf value')\n",
    "#Min_rf_val.layout.visibility=\"hidden\"\n",
    "Min_rf_val.layout.display=\"none\""
   ]
  },
  {
   "cell_type": "code",
   "execution_count": 53,
   "id": "56254428",
   "metadata": {},
   "outputs": [],
   "source": [
    "# What is maximum rf value\n",
    "Max_rf_val=widgets.Text(placeholder = 'What is max rf value')\n",
    "#Max_rf_val.layout.visibility=\"hidden\"\n",
    "Max_rf_val.layout.display=\"none\""
   ]
  },
  {
   "cell_type": "code",
   "execution_count": 54,
   "id": "1d732c14",
   "metadata": {},
   "outputs": [],
   "source": [
    "# What is Probability- Historical data type\n",
    "Min_rf_val=widgets.Text(placeholder = 'What is min rf value')\n",
    "#Min_rf_val.layout.visibility=\"hidden\"\n",
    "Min_rf_val.layout.display=\"none\""
   ]
  },
  {
   "cell_type": "code",
   "execution_count": 55,
   "id": "d32a887a",
   "metadata": {},
   "outputs": [],
   "source": [
    "# What is\n",
    "Max_rf_val=widgets.Text(placeholder = 'What is max rf value')\n",
    "#Max_rf_val.layout.visibility=\"hidden\"\n",
    "Max_rf_val.layout.display=\"none\""
   ]
  },
  {
   "cell_type": "code",
   "execution_count": 56,
   "id": "dd6886d4",
   "metadata": {},
   "outputs": [],
   "source": [
    "# Prob text entry min\n",
    "Prob_text_entry_min=widgets.Text(placeholder = '')\n",
    "Prob_text_entry_min.layout.display=\"none\""
   ]
  },
  {
   "cell_type": "code",
   "execution_count": 57,
   "id": "37caa370",
   "metadata": {},
   "outputs": [],
   "source": [
    "# Prob text entry max\n",
    "Prob_text_entry_max=widgets.Text(placeholder = '')\n",
    "Prob_text_entry_max.layout.display=\"none\""
   ]
  },
  {
   "cell_type": "code",
   "execution_count": 58,
   "id": "d5a2a234",
   "metadata": {},
   "outputs": [],
   "source": [
    "# What is Ext Low rf value\n",
    "Low_rf_val_manual=widgets.Text(placeholder = 'What is Exteme Low rf value')\n",
    "Low_rf_val_manual.layout.display=\"none\""
   ]
  },
  {
   "cell_type": "code",
   "execution_count": 59,
   "id": "c76656da",
   "metadata": {},
   "outputs": [],
   "source": [
    "# What is Ext High rf value\n",
    "High_rf_val_manual=widgets.Text(placeholder = 'What is Exteme High rf value')\n",
    "High_rf_val_manual.layout.display=\"none\""
   ]
  },
  {
   "cell_type": "code",
   "execution_count": 60,
   "id": "07c2f8e7",
   "metadata": {},
   "outputs": [],
   "source": [
    "# What is Ext Low value\n",
    "Low_rf_val_auto=widgets.BoundedFloatText(placeholder = '',min=-180,max=180)\n",
    "Low_rf_val_auto.layout.display=\"none\""
   ]
  },
  {
   "cell_type": "code",
   "execution_count": 61,
   "id": "88161794",
   "metadata": {},
   "outputs": [],
   "source": [
    "# What is Ext High value\n",
    "High_rf_val_auto=widgets.BoundedFloatText(placeholder = '',min=-180,max=180)\n",
    "High_rf_val_auto.layout.display=\"none\""
   ]
  },
  {
   "cell_type": "code",
   "execution_count": 62,
   "id": "5eb2a773",
   "metadata": {},
   "outputs": [],
   "source": [
    "# What is\n",
    "Prog_low_val_auto=widgets.BoundedFloatText(placeholder = '',min=-180,max=180)\n",
    "Prog_low_val_auto.layout.display=\"none\""
   ]
  },
  {
   "cell_type": "code",
   "execution_count": 63,
   "id": "16253721",
   "metadata": {},
   "outputs": [],
   "source": [
    "# What i\n",
    "Prog_high_val_auto=widgets.BoundedFloatText(placeholder = '',min=-180,max=180)\n",
    "Prog_high_val_auto.layout.display=\"none\""
   ]
  },
  {
   "cell_type": "code",
   "execution_count": 64,
   "id": "baa07899",
   "metadata": {},
   "outputs": [],
   "source": [
    "Extreme_High_Low_radio =widgets.RadioButtons(options=['Rf-  Hist data - Extreme Low and High rf values','Rf- Enter - Extreme Low and High rf values'],value='Rf-  Hist data - Extreme Low and High rf values')\n",
    "#Extreme_Min_max"
   ]
  },
  {
   "cell_type": "code",
   "execution_count": 65,
   "id": "f03fc026",
   "metadata": {},
   "outputs": [],
   "source": [
    "def set_Extreme_High_Low(change): \n",
    "    #print(Rf_Min_max1.value)\n",
    "    #Extreme_High_Low.value=Rf_Min_max1.value\n",
    "    if Extreme_High_Low_radio.value==\"Rf-  Hist data - Extreme Low and High rf values\" or \"\": \n",
    "        Low_rf_val_auto.layout.display=\"block\"\n",
    "        High_rf_val_auto.layout.display=\"block\"\n",
    "        Low_rf_val_manual.layout.display=\"none\"\n",
    "        High_rf_val_manual.layout.display=\"none\"\n",
    "        e_min=np.min(rf)\n",
    "        e_max=np.max(rf)\n",
    "        #Hist_min_rf.layout.display=\"block\"\n",
    "        #Hist_max_rf.layout.display=\"block\"\n",
    "        Low_rf_val_auto.value=e_min\n",
    "        High_rf_val_auto.value=e_max      \n",
    "        print(e_min)\n",
    "        print(e_max)\n",
    "    else:\n",
    "        Low_rf_val_manual.layout.display=\"block\"\n",
    "        High_rf_val_manual.layout.display=\"block\"\n",
    "        Low_rf_val_auto.layout.display=\"none\"\n",
    "        High_rf_val_auto.layout.display=\"none\"  \n",
    "#         Hist_min_rf.layout.display=\"none\"\n",
    "#         Hist_max_rf.layout.display=\"none\"\n",
    "        #Min=float('What is value of  Minimum ')\n",
    "        #Max=float('What is value of  Maximum ')\n",
    "        #print('Extreme lowest value for  {:.2f} & highest {:.2f}  '.format(np.min(data),np.max(data)))\n",
    "Extreme_High_Low_radio.observe(set_Extreme_High_Low,'value')"
   ]
  },
  {
   "cell_type": "code",
   "execution_count": 66,
   "id": "a47bc18c",
   "metadata": {},
   "outputs": [],
   "source": [
    "Cal_rf_manual_entry_wid=widgets.Button(description=\"Calculate\")\n",
    "#Cal_rf_manual_entry_wid.on_click(Cal_rf_manual_entry)\n",
    "\n",
    "#def Cal_rf_manual_entry():       "
   ]
  },
  {
   "cell_type": "code",
   "execution_count": 67,
   "id": "72e7869f",
   "metadata": {},
   "outputs": [],
   "source": [
    "Hist_min_rf=widgets.BoundedFloatText(placeholder = '',min=-180, max=180)\n",
    "Hist_min_rf.layout.display=\"none\""
   ]
  },
  {
   "cell_type": "code",
   "execution_count": 68,
   "id": "f76cbdfe",
   "metadata": {},
   "outputs": [],
   "source": [
    "Hist_max_rf=widgets.BoundedFloatText(placeholder = '')\n",
    "Hist_max_rf.layout.display=\"none\"\n",
    "Hist_min_rf.layout.display=\"block\"\n",
    "Hist_max_rf.layout.display=\"block\""
   ]
  },
  {
   "cell_type": "code",
   "execution_count": 69,
   "id": "03a0bc4a",
   "metadata": {},
   "outputs": [],
   "source": [
    "# No of segment\n",
    "Segment_label=widgets.Label(\n",
    "                  value='How many segments do you want to create ?',\n",
    "                  style={'description_width': 'initial'}\n",
    ")\n",
    "#Segment_label"
   ]
  },
  {
   "cell_type": "code",
   "execution_count": 70,
   "id": "74a03981",
   "metadata": {},
   "outputs": [],
   "source": [
    "# Segment_value_box\n",
    "Segment_value_box=widgets.Text(placeholder = '')\n",
    "\n",
    "Segment_value_box_slider=widgets.IntSlider(\n",
    "    value=3,\n",
    "    min=1,\n",
    "    max=10,\n",
    "    step=1,\n",
    "    description='No. of Segments:',\n",
    ")\n",
    "#Segment_value_box_slider"
   ]
  },
  {
   "cell_type": "code",
   "execution_count": 71,
   "id": "3bfad4c3",
   "metadata": {},
   "outputs": [],
   "source": [
    "# No of Data Points\n",
    "No_of_data_points=widgets.Label(\n",
    "                  value='How many data points do you want to create ?',\n",
    "                  style={'description_width': 'initial'}\n",
    ")\n"
   ]
  },
  {
   "cell_type": "code",
   "execution_count": 72,
   "id": "809dcad4",
   "metadata": {},
   "outputs": [],
   "source": [
    "# Data points value\n",
    "Data_points_value=widgets.Text(placeholder = '')\n",
    "\n",
    "Data_points_value_slider=widgets.IntSlider(\n",
    "    value=3,\n",
    "    min=100,\n",
    "    max=10000,\n",
    "    step=100,\n",
    "    description='No of data points:',\n",
    ")"
   ]
  },
  {
   "cell_type": "code",
   "execution_count": 73,
   "id": "dab8987d",
   "metadata": {},
   "outputs": [],
   "source": [
    "def Set_Min_Max_rf(change): \n",
    "    #print(Rf_Min_max1.value)\n",
    "    #name.value=Rf_Min_max1.value\n",
    "    if Rf_Min_max1_radio.value==\"Rf-  Historical data - min and max rf values\" or \"\": \n",
    "        Min_rf_val.layout.display=\"none\"\n",
    "        Max_rf_val.layout.display=\"none\"            \n",
    "        Min=float(np.mean(rf)-np.std(rf))\n",
    "        Max=float(np.mean(rf)+np.std(rf))\n",
    "        Hist_min_rf.layout.display=\"block\"\n",
    "        Hist_max_rf.layout.display=\"block\"\n",
    "        Hist_min_rf.value=Min\n",
    "        Hist_max_rf.value=Max      \n",
    "        #print(Min)\n",
    "        #print(Max)\n",
    "    else:\n",
    "        Min_rf_val.layout.display=\"block\"\n",
    "        Max_rf_val.layout.display=\"block\"\n",
    "        Hist_min_rf.layout.display=\"none\"\n",
    "        Hist_max_rf.layout.display=\"none\"\n",
    "        #Min=float('What is value of  Minimum ')\n",
    "        #Max=float('What is value of  Maximum ')\n",
    "        #print('Extreme lowest value for  {:.2f} & highest {:.2f}  '.format(np.min(data),np.max(data)))\n",
    "Rf_Min_max1_radio.observe(Set_Min_Max_rf,'value')\n"
   ]
  },
  {
   "cell_type": "code",
   "execution_count": 79,
   "id": "80d8adf1",
   "metadata": {},
   "outputs": [],
   "source": [
    "def set_Prob_Low_High(change): \n",
    "    if Prob_Hist_data_type_radio.value==\"Rf- Probability- Historical data type\" or \"\": \n",
    "        Prog_low_val_auto.layout.display=\"block\"\n",
    "        Prog_high_val_auto.layout.display=\"block\"\n",
    "        Prog_low_val_auto.layout.display=\"none\"\n",
    "        Prog_high_val_auto.layout.display=\"none\"\n",
    "        e_min=np.min(rf)\n",
    "        e_max=np.max(rf)\n",
    "        #Hist_min_rf.layout.display=\"block\"\n",
    "        #Hist_max_rf.layout.display=\"block\"\n",
    "        Low_rf_val_auto.value=e_min\n",
    "        High_rf_val_auto.value=e_max      \n",
    "        print(e_min)\n",
    "        print(e_max)\n",
    "    else:\n",
    "        Low_rf_val_manual.layout.display=\"block\"\n",
    "        High_rf_val_manual.layout.display=\"block\"\n",
    "        Low_rf_val_auto.layout.display=\"none\"\n",
    "        High_rf_val_auto.layout.display=\"none\"  \n",
    "#         Hist_min_rf.layout.display=\"none\"\n",
    "#         Hist_max_rf.layout.display=\"none\"\n",
    "        #Min=float('What is value of  Minimum ')\n",
    "        #Max=float('What is value of  Maximum ')\n",
    "        #print('Extreme lowest value for  {:.2f} & highest {:.2f}  '.format(np.min(data),np.max(data)))\n",
    "Extreme_High_Low_radio.observe(set_Extreme_High_Low,'value')\n"
   ]
  },
  {
   "cell_type": "code",
   "execution_count": 80,
   "id": "af216db9",
   "metadata": {},
   "outputs": [],
   "source": [
    "# def calculte_output():\n",
    "#     if Prob_Hist_data_type.value ==\"Rf- Probability- Historical data type\":\n",
    "#         df=(Max-Min )/(Segment_value_box_slider-2)\n",
    "#         points=[]\n",
    "#         points1=[]\n",
    "#         points2=[]\n",
    "#         k=0\n",
    "#         for i in range(Segment_value_box_slider):\n",
    "\n",
    "#             if i==0:\n",
    "#                 min_val=e_min\n",
    "#                 max_val=Min \n",
    "#                 for j in data:\n",
    "#                     if j>=min_val and j<=max_val:\n",
    "#                         points1.append(j)\n",
    "#                         points.append(points1)\n",
    "\n",
    "#     elif i==Segment_value_box_slider-1:\n",
    "#             min_val=Max\n",
    "#             max_val=e_max \n",
    "#             for j in data:\n",
    "#                 if j>=min_val and j<=max_val:\n",
    "#                      points2.append(j)\n",
    "#             points.append(points2)\n",
    "#     else:\n",
    "#             points3=[]\n",
    "#             min_val=Min+(df*(i-1))\n",
    "#             max_val=Min+df*i\n",
    "#             if i!=k:\n",
    "#                 points3.clear()\n",
    "#                 for j in data:\n",
    "#                     if j>=min_val and j<=max_val:\n",
    "#                          points3.append(j)\n",
    "\n",
    "#                 points.append(points3)\n",
    "#                 i=k\n",
    "\n",
    "#     print(\"Probability on historical data according segments which you create\")\n",
    "#     probabilitylist1=[]\n",
    "#     for j in range(Segment_value_box_slider):\n",
    "#         a=(len(points[j]))\n",
    "#         b=(a/len(data))*100\n",
    "#         probabilitylist1.append(b)\n",
    "#         print(b)   \n",
    "\n",
    "#     rf_input2=input(\"If you want go with probability on historical data type(Yes) or For manually entering (No)\")\n",
    "#     probabilitylist=[]\n",
    "#     totalProbablty=0\n",
    "#     if rf_input2 =='y':\n",
    "#         probabilitylist=probabilitylist1\n",
    "#     else:\n",
    "#         print('Enter Probability values')\n",
    "#         for i in range(Segment_value_box_slider):\n",
    "#             ele = int(input())\n",
    "#             totalProbablty += ele\n",
    "#             probability=(Data_points_value_slider*ele)//100\n",
    "#             probabilitylist.append(probability)\n",
    "#     if totalProbablty > 100 :#condition for probablity not excided more than 100%\n",
    "#         print('Wrong entry. Total probability exceeded 100')\n",
    "#         sys.exit()\n",
    "     \n",
    "#     a=(Min,Max,e_min,e_max,Segment_value_box_slider,Data_points_value_slider,probabilitylist)\n",
    "#     globals()[name] = a\n"
   ]
  },
  {
   "cell_type": "code",
   "execution_count": 85,
   "id": "c47f78f2",
   "metadata": {},
   "outputs": [],
   "source": [
    "vbox_text=widgets.VBox([Def_Print,Rf_Min_max1_radio,Min_rf_val,Max_rf_val,Hist_min_rf,Hist_max_rf,Def_Print_Exteme_Low_High,Extreme_High_Low_radio,Low_rf_val_auto,High_rf_val_auto,Low_rf_val_manual,High_rf_val_manual,Segment_label,Segment_value_box_slider,Data_points_value_slider,No_of_data_points,Def_Print_Probability,Prob_Hist_data_type,Prob_text_entry_max])"
   ]
  },
  {
   "cell_type": "code",
   "execution_count": 86,
   "id": "05944fce",
   "metadata": {
    "scrolled": true
   },
   "outputs": [
    {
     "data": {
      "application/vnd.jupyter.widget-view+json": {
       "model_id": "82065a1c2bd7461f892434375891cccf",
       "version_major": 2,
       "version_minor": 0
      },
      "text/plain": [
       "VBox(children=(VBox(children=(Image(value=b'\\xff\\xd8\\xff\\xe0\\x00\\x10JFIF\\x00\\x01\\x01\\x01\\x00`\\x00`\\x00\\x00\\xff…"
      ]
     },
     "metadata": {},
     "output_type": "display_data"
    }
   ],
   "source": [
    "page=widgets.VBox([vbox_headline,vbox_text])#vbox_headline\n",
    "display(page)"
   ]
  },
  {
   "cell_type": "code",
   "execution_count": null,
   "id": "8f1af4e6",
   "metadata": {},
   "outputs": [],
   "source": []
  }
 ],
 "metadata": {
  "kernelspec": {
   "display_name": "Python 3 (ipykernel)",
   "language": "python",
   "name": "python3"
  },
  "language_info": {
   "codemirror_mode": {
    "name": "ipython",
    "version": 3
   },
   "file_extension": ".py",
   "mimetype": "text/x-python",
   "name": "python",
   "nbconvert_exporter": "python",
   "pygments_lexer": "ipython3",
   "version": "3.9.7"
  }
 },
 "nbformat": 4,
 "nbformat_minor": 5
}
