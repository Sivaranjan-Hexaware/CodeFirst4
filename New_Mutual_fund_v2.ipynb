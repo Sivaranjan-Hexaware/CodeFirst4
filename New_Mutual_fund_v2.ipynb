{
 "cells": [
  {
   "cell_type": "code",
   "execution_count": 1,
   "id": "506fe450",
   "metadata": {},
   "outputs": [],
   "source": [
    "import pandas as pd\n",
    "import numpy as np\n",
    "import ipywidgets as widgets\n",
    "import ipywidgets as widgets\n",
    "from IPython.display import display, clear_output\n",
    "\n",
    "#geting rf data from excel file\n",
    "#rf=pd.read_excel(\"D:/AIM 29th March2021/Python/CodeFirst3/Rf data1.xlsx\")\n",
    "rf=pd.read_excel(\"Rf data1.xlsx\")\n",
    "rf=rf['Rf']"
   ]
  },
  {
   "cell_type": "code",
   "execution_count": 2,
   "id": "c92532ba",
   "metadata": {},
   "outputs": [],
   "source": [
    "# Image Widget\n",
    "#file = open(\"D:/AIM 29th March2021/Python/CodeFirst3/Amaze_DP.JPG\", \"rb\")\n",
    "file = open(\"Amaze_DP.JPG\", \"rb\")\n",
    "image = file.read()\n",
    "\n",
    "image_headline=widgets.Image(\n",
    "               value=image,\n",
    "               format='JPG',\n",
    "               width='1000' \n",
    "            )\n",
    "label_headline=widgets.Label(\n",
    "                  value='Aim toolkit Application',\n",
    "                  style={'description_width': 'initial'}\n",
    "            )\n",
    "vbox_headline=widgets.VBox([image_headline,label_headline])   "
   ]
  },
  {
   "cell_type": "code",
   "execution_count": 3,
   "id": "34405102",
   "metadata": {},
   "outputs": [],
   "source": [
    "# Input values for expected return (select  min and max values based on  historical data  or enter manually )\n",
    "Rf_Min_max1 =widgets.RadioButtons(\n",
    "    options=['Rf-  Historical data - min and max rf values','Rf- Enter - min and max rf values'])"
   ]
  },
  {
   "cell_type": "code",
   "execution_count": 4,
   "id": "2d8c3567",
   "metadata": {},
   "outputs": [],
   "source": [
    "# Name\n",
    "name=widgets.Text(placeholder = 'Your selection')\n",
    "name.value=\"Rf-  Historical data - min and max rf values\""
   ]
  },
  {
   "cell_type": "code",
   "execution_count": 5,
   "id": "cb4692b5",
   "metadata": {},
   "outputs": [],
   "source": [
    "# What is minimun rf value\n",
    "Min_rf_val=widgets.Text(placeholder = 'What is min rf value')\n",
    "#Min_rf_val.layout.visibility=\"hidden\"\n",
    "Min_rf_val.layout.display=\"none\""
   ]
  },
  {
   "cell_type": "code",
   "execution_count": 6,
   "id": "56254428",
   "metadata": {},
   "outputs": [],
   "source": [
    "# What is maximum rf value\n",
    "Max_rf_val=widgets.Text(placeholder = 'What is max rf value')\n",
    "#Max_rf_val.layout.visibility=\"hidden\"\n",
    "Max_rf_val.layout.display=\"none\""
   ]
  },
  {
   "cell_type": "code",
   "execution_count": 7,
   "id": "dab8987d",
   "metadata": {},
   "outputs": [],
   "source": [
    "def changed(change): \n",
    "    #print(Rf_Min_max1.value)\n",
    "    name.value=Rf_Min_max1.value\n",
    "    if name.value==\"Rf-  Historical data - min and max rf values\"or \"\": \n",
    "        Min_rf_val.layout.display=\"none\"\n",
    "        Max_rf_val.layout.display=\"none\"            \n",
    "        Min=float(np.mean(rf)-np.std(rf))\n",
    "        Max=float(np.mean(rf)+np.std(rf))\n",
    "        print(Min)\n",
    "        print(Max)\n",
    "    else:\n",
    "        Min_rf_val.layout.display=\"block\"\n",
    "        Max_rf_val.layout.display=\"block\"\n",
    "        #Min=float('What is value of  Minimum ')\n",
    "        #Max=float('What is value of  Maximum ')\n",
    "        #print('Extreme lowest value for  {:.2f} & highest {:.2f}  '.format(np.min(data),np.max(data)))\n",
    "Rf_Min_max1.observe(changed,'value')"
   ]
  },
  {
   "cell_type": "code",
   "execution_count": 8,
   "id": "c47f78f2",
   "metadata": {},
   "outputs": [],
   "source": [
    "vbox_text=widgets.VBox([Rf_Min_max1,name,Min_rf_val,Max_rf_val])"
   ]
  },
  {
   "cell_type": "code",
   "execution_count": 9,
   "id": "05944fce",
   "metadata": {},
   "outputs": [
    {
     "data": {
      "application/vnd.jupyter.widget-view+json": {
       "model_id": "26ffc212c97f409197825e48c5f28195",
       "version_major": 2,
       "version_minor": 0
      },
      "text/plain": [
       "VBox(children=(VBox(children=(Image(value=b'\\xff\\xd8\\xff\\xe0\\x00\\x10JFIF\\x00\\x01\\x01\\x01\\x00`\\x00`\\x00\\x00\\xff…"
      ]
     },
     "metadata": {},
     "output_type": "display_data"
    }
   ],
   "source": [
    "page=widgets.VBox([vbox_headline,vbox_text])\n",
    "display(page)"
   ]
  },
  {
   "cell_type": "code",
   "execution_count": null,
   "id": "55886555",
   "metadata": {},
   "outputs": [],
   "source": []
  },
  {
   "cell_type": "code",
   "execution_count": null,
   "id": "ddb89918",
   "metadata": {},
   "outputs": [],
   "source": []
  }
 ],
 "metadata": {
  "kernelspec": {
   "display_name": "Python 3 (ipykernel)",
   "language": "python",
   "name": "python3"
  },
  "language_info": {
   "codemirror_mode": {
    "name": "ipython",
    "version": 3
   },
   "file_extension": ".py",
   "mimetype": "text/x-python",
   "name": "python",
   "nbconvert_exporter": "python",
   "pygments_lexer": "ipython3",
   "version": "3.9.7"
  }
 },
 "nbformat": 4,
 "nbformat_minor": 5
}
