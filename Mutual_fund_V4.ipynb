{
 "cells": [
  {
   "cell_type": "code",
   "execution_count": 8,
   "id": "25b04dbf",
   "metadata": {},
   "outputs": [],
   "source": [
    "import pandas as pd\n",
    "import numpy as np\n",
    "import ipywidgets as widgets\n",
    "import ipywidgets as widgets\n",
    "from IPython.display import display, clear_output\n",
    "\n",
    "#geting rf data from excel file\n",
    "#rf=pd.read_excel(\"D:/AIM 29th March2021/Python/CodeFirst3/Rf data1.xlsx\")\n",
    "rf=pd.read_excel(\"Rf data1.xlsx\")\n",
    "rf=rf['Rf']"
   ]
  },
  {
   "cell_type": "code",
   "execution_count": 9,
   "id": "ca3c0b99",
   "metadata": {},
   "outputs": [
    {
     "data": {
      "application/vnd.jupyter.widget-view+json": {
       "model_id": "f601ee9888584338b4eb696874f27af9",
       "version_major": 2,
       "version_minor": 0
      },
      "text/plain": [
       "ToggleButtons(options=('Rf-  Historical data -min and max values', 'Rf-  Manual entry - min and max values'), …"
      ]
     },
     "metadata": {},
     "output_type": "display_data"
    }
   ],
   "source": [
    "# Input values for expected return (elect  min and max values based on  historical data type(y) or Enter manually type(n))\n",
    "#Rf_Min_low= widgets.RadioButtons( options=['Rf-  Historical data -min and max values', 'Rf-  Manual entry - min and max values'], disabled=False)\n",
    "#widgets.HBox([Rf_Min_low])\n",
    "\n",
    "Rf_Min_max1 =widgets.ToggleButtons(options=['Rf-  Historical data -min and max values','Rf-  Manual entry - min and max values'])\n",
    "#Rf_Min_max1"
   ]
  },
  {
   "cell_type": "code",
   "execution_count": 10,
   "id": "200ec02f",
   "metadata": {},
   "outputs": [],
   "source": [
    "# Name\n",
    "name=widgets.Text(placeholder = 'Your name here')"
   ]
  },
  {
   "cell_type": "code",
   "execution_count": 11,
   "id": "8c450e7b",
   "metadata": {},
   "outputs": [],
   "source": [
    "def changed(change):\n",
    "    #print(Rf_Min_max1.value)\n",
    "    name.value=Rf_Min_max1.value\n",
    "Rf_Min_max1.observe(changed,'value')"
   ]
  },
  {
   "cell_type": "code",
   "execution_count": 12,
   "id": "bf251d41",
   "metadata": {},
   "outputs": [],
   "source": [
    "#output=widgets.Output()"
   ]
  },
  {
   "cell_type": "code",
   "execution_count": 13,
   "id": "ce2d4e4d",
   "metadata": {},
   "outputs": [],
   "source": [
    "#vbox_text=widgets.VBox([text_0,text_1,grand,name,text_2,date,text_3,text_4,Demo_team,text_5,vbox_result])\n",
    "vbox_text=widgets.VBox([Rf_Min_max1,name])"
   ]
  },
  {
   "cell_type": "code",
   "execution_count": 14,
   "id": "f3e2273c",
   "metadata": {},
   "outputs": [
    {
     "data": {
      "application/vnd.jupyter.widget-view+json": {
       "model_id": "f187ed1d0d934434a9ba21d7ec742127",
       "version_major": 2,
       "version_minor": 0
      },
      "text/plain": [
       "HBox(children=(VBox(children=(ToggleButtons(options=('Rf-  Historical data -min and max values', 'Rf-  Manual …"
      ]
     },
     "metadata": {},
     "output_type": "display_data"
    }
   ],
   "source": [
    "#page=widgets.HBox([vbox_headline,vbox_text])\n",
    "#display(page)\n",
    "\n",
    "page=widgets.HBox([vbox_text])\n",
    "display(page)"
   ]
  },
  {
   "cell_type": "code",
   "execution_count": null,
   "id": "e45ebb32",
   "metadata": {},
   "outputs": [],
   "source": [
    "# Function who create arguments which we pass to expected return function #\n",
    "\n",
    "# def taking_input(Data,input_name):\n",
    "#     data=Data\n",
    "#     name=str(input_name)\n",
    "#     print('Hi before your proceed for selecting input values for expected return have a look  at the historical values ')\n",
    "#     print(' minimum is {:.2f} & maximum {:.2f} '.format(np.mean(data)-np.std(data),np.mean(data)+np.std(data)))\n",
    "#     input1=input(\"If you want select  min and max values based on  historical data type(y) or Enter manually type(n) \")\n",
    "#     if input1=='y':\n",
    "#         Min=float(np.mean(data)-np.std(data))\n",
    "#         Max=float(np.mean(data)+np.std(data))\n",
    "\n",
    "#     else :\n",
    "#         Min=float(input('What is value of  Minimum '))\n",
    "#         Max=float(input('What is value of  Maximum '))\n",
    "#     print('Extreme lowest value for  {:.2f} & highest {:.2f}  '.format(np.min(data),np.max(data)))\n",
    "#     input2=input(\"If you want select extreme  lowest and highest values based on historical data type(y) or enter manually type( n ) \")\n",
    "#     if input2=='y':\n",
    "#         e_min=np.min(data)\n",
    "#         e_max=np.max(data)\n",
    "\n",
    "#     else :\n",
    "#         e_min=float(input('What is value of extreme Lowest '))\n",
    "#         e_max=float(input('What is value of extreame Highest '))\n",
    "#     segments_input=int(input('How many segments you want to create for  '))\n",
    "#     datapoints=int(input('How many data points you want to create in  '))\n",
    "#     df=(Max-Min )/(segments_input-2)\n",
    "#     points=[]\n",
    "#     points1=[]\n",
    "#     points2=[]\n",
    "#     k=0\n",
    "#     for i in range(segments_input):\n",
    "\n",
    "#         if i==0:\n",
    "#             min_val=e_min\n",
    "#             max_val=Min \n",
    "#             for j in data:\n",
    "#                 if j>=min_val and j<=max_val:\n",
    "#                     points1.append(j)\n",
    "#             points.append(points1)\n",
    "\n",
    "#         elif i==segments_input-1:\n",
    "#             min_val=Max\n",
    "#             max_val=e_max \n",
    "#             for j in data:\n",
    "#                 if j>=min_val and j<=max_val:\n",
    "#                      points2.append(j)\n",
    "#             points.append(points2)\n",
    "#         else:\n",
    "#             points3=[]\n",
    "#             min_val=Min+(df*(i-1))\n",
    "#             max_val=Min+df*i\n",
    "#             if i!=k:\n",
    "#                 points3.clear()\n",
    "#                 for j in data:\n",
    "#                     if j>=min_val and j<=max_val:\n",
    "#                          points3.append(j)\n",
    "\n",
    "#                 points.append(points3)\n",
    "#                 i=k\n",
    "\n",
    "#     print(\"Probability on historical data according segments which you create\")\n",
    "#     probabilitylist1=[]\n",
    "#     for j in range(segments_input):\n",
    "#         a=(len(points[j]))\n",
    "#         b=(a/len(data))*100\n",
    "#         probabilitylist1.append(b)\n",
    "#         print(b)   \n",
    "\n",
    "#     rf_input2=input(\"If you want go with probability on historical data type(y) or For manually entering (n)\")\n",
    "#     probabilitylist=[]\n",
    "#     totalProbablty=0\n",
    "#     if rf_input2 =='y':\n",
    "#         probabilitylist=probabilitylist1\n",
    "#     else:\n",
    "#         print('Enter Probability values')\n",
    "#         for i in range(segments_input):\n",
    "#             ele = int(input())\n",
    "#             totalProbablty += ele\n",
    "#             probability=(datapoints*ele)//100\n",
    "#             probabilitylist.append(probability)\n",
    "#     if totalProbablty > 100 :#condition for probablity not excided more than 100%\n",
    "#         print('Wrong entry. Total probability exceeded 100')\n",
    "#         sys.exit()\n",
    "     \n",
    "#     a=(Min,Max,e_min,e_max,segments_input,datapoints,probabilitylist)\n",
    "#     globals()[name] = a"
   ]
  },
  {
   "cell_type": "code",
   "execution_count": null,
   "id": "a76c4339",
   "metadata": {},
   "outputs": [],
   "source": [
    "#sending rm data and Rm as variable for rf values\n",
    "#taking_input(rf,'Rf')"
   ]
  },
  {
   "cell_type": "code",
   "execution_count": null,
   "id": "501ad9eb",
   "metadata": {},
   "outputs": [],
   "source": [
    "# Rm variable \n",
    "#Rf"
   ]
  }
 ],
 "metadata": {
  "kernelspec": {
   "display_name": "Python 3 (ipykernel)",
   "language": "python",
   "name": "python3"
  },
  "language_info": {
   "codemirror_mode": {
    "name": "ipython",
    "version": 3
   },
   "file_extension": ".py",
   "mimetype": "text/x-python",
   "name": "python",
   "nbconvert_exporter": "python",
   "pygments_lexer": "ipython3",
   "version": "3.9.7"
  }
 },
 "nbformat": 4,
 "nbformat_minor": 5
}
